{
 "cells": [
  {
   "cell_type": "markdown",
   "id": "9fb41a0c-48c8-4a02-a6a4-8570c9de95e8",
   "metadata": {},
   "source": [
    "## 1. Who developed Python Programming Language?"
   ]
  },
  {
   "cell_type": "markdown",
   "id": "707d6294-f642-4c71-b6a6-d250ab0ef6be",
   "metadata": {},
   "source": [
    "### Guido Van Rossum"
   ]
  },
  {
   "cell_type": "markdown",
   "id": "00a343d3-823f-4fb2-8c0d-4990b86e7959",
   "metadata": {},
   "source": [
    "## 2.Which type of programming does Python support?"
   ]
  },
  {
   "cell_type": "markdown",
   "id": "4c65da15-0265-4c15-aa28-e1f65c8fac9c",
   "metadata": {},
   "source": [
    "### Python support object oriented, structured and functional prigramming language "
   ]
  },
  {
   "cell_type": "markdown",
   "id": "23f672e6-8a68-4496-a434-431d81f3dcce",
   "metadata": {},
   "source": [
    "## 3. Is python case sensitive when dealing with identifiers?"
   ]
  },
  {
   "cell_type": "markdown",
   "id": "3b4ce302-be92-42fa-815c-1e29261a3d7d",
   "metadata": {},
   "source": [
    "### Yes"
   ]
  },
  {
   "cell_type": "markdown",
   "id": "f8d9c190-46ce-422c-9b89-1e9fb8ed16bc",
   "metadata": {},
   "source": [
    "## 4.Which of the following is the correct extension of the Python file?"
   ]
  },
  {
   "cell_type": "markdown",
   "id": "32ab1f38-6451-489a-a4b4-6f073483a2a5",
   "metadata": {},
   "source": [
    "### .py"
   ]
  },
  {
   "cell_type": "markdown",
   "id": "f2be37a7-ad9b-434d-9bfa-ccf215075b45",
   "metadata": {},
   "source": [
    "## 5. Is Python code compiled or interpreted?"
   ]
  },
  {
   "cell_type": "markdown",
   "id": "18f62771-0274-4985-a08c-033eda2a7d0b",
   "metadata": {},
   "source": [
    "### Both"
   ]
  },
  {
   "cell_type": "markdown",
   "id": "3fd25643-be9b-4227-be99-b32e7df2ce38",
   "metadata": {},
   "source": [
    "## 6. Name a few blocks of code used to define in python language?"
   ]
  },
  {
   "cell_type": "markdown",
   "id": "ccac3b30-ea79-4286-8488-8936670ee6fd",
   "metadata": {},
   "source": [
    "### indentation is used to define a vlock of code."
   ]
  },
  {
   "cell_type": "code",
   "execution_count": 2,
   "id": "308bedc2-595b-4d08-96f9-e45b46604fea",
   "metadata": {},
   "outputs": [
    {
     "name": "stdout",
     "output_type": "stream",
     "text": [
      "0\n",
      "1\n",
      "2\n",
      "3\n",
      "4\n",
      "5\n",
      "6\n",
      "7\n",
      "8\n",
      "9\n"
     ]
    }
   ],
   "source": [
    "for i in range(10):\n",
    "    print(i)"
   ]
  },
  {
   "cell_type": "markdown",
   "id": "123089df-2aea-484f-a224-d3408b8e9ece",
   "metadata": {},
   "source": [
    "## 7.State a  character used to give single_line comments in python"
   ]
  },
  {
   "cell_type": "markdown",
   "id": "b77cd711-0e04-4334-bb12-c547a952e8f2",
   "metadata": {},
   "source": [
    "### #is used to give single line comment"
   ]
  },
  {
   "cell_type": "markdown",
   "id": "bc09aa3d-3642-40fa-b862-661c02e59960",
   "metadata": {},
   "source": [
    "## 8. Mention functions which can help us to find the version of python that we are currently working on?"
   ]
  },
  {
   "cell_type": "markdown",
   "id": "c1e60941-910c-4ecd-934c-a7388b633f52",
   "metadata": {},
   "source": [
    "### sys.version"
   ]
  },
  {
   "cell_type": "markdown",
   "id": "99f8be61-401d-475d-861a-92de0c8b20e1",
   "metadata": {},
   "source": [
    "## 9.Python supports the creation of anonymous functions at routine, using a construct called __________"
   ]
  },
  {
   "cell_type": "markdown",
   "id": "046daab6-86c0-4dd6-b9b4-7204eac988cb",
   "metadata": {},
   "source": [
    "### lambda"
   ]
  },
  {
   "cell_type": "markdown",
   "id": "90140d14-7ced-42fd-a834-3fee6ee455da",
   "metadata": {},
   "source": [
    "## 10. What does pip stands for python?"
   ]
  },
  {
   "cell_type": "markdown",
   "id": "6db6fd60-065b-4fa0-9111-418d97b606e2",
   "metadata": {},
   "source": [
    "### Preferred Installer Program"
   ]
  },
  {
   "cell_type": "markdown",
   "id": "be002599-6917-467f-b4ee-ddf537450e54",
   "metadata": {},
   "source": [
    "## 11. Mention a few built_in function in pythno?"
   ]
  },
  {
   "cell_type": "markdown",
   "id": "9f9096d9-c3a5-4aee-aac9-f44f9b5d7e0c",
   "metadata": {},
   "source": [
    "### print()\n",
    "### input()\n",
    "### len()"
   ]
  },
  {
   "cell_type": "markdown",
   "id": "2e32b88b-b46b-4f86-88d4-75171a48d838",
   "metadata": {},
   "source": [
    "## 12. What is the maximum possible length of an identifier in python?"
   ]
  },
  {
   "cell_type": "markdown",
   "id": "47af44f1-1def-468e-bd71-fccc29c05ea1",
   "metadata": {},
   "source": [
    "### 79 characters"
   ]
  },
  {
   "cell_type": "markdown",
   "id": "c5d6ba37-1f38-4ccc-9301-c6bc4c16dc5c",
   "metadata": {},
   "source": [
    "## 13. What are the benefits of using Python?"
   ]
  },
  {
   "cell_type": "markdown",
   "id": "5ee51322-3256-44eb-b663-cb54a0dca4b6",
   "metadata": {},
   "source": [
    "###  a.Presence of third-party modules \n",
    "###  b.Extensive support libraries(NumPy for numerical calculations, Pandas for data analytics, etc.) \n",
    "###  c.Open source and large active community base \n",
    "###  d.Versatile, Easy to read, learn and write\n",
    "###  e.User-friendly data structures \n",
    "###  f.High-level language \n",
    "###  g.Dynamically typed language(No need to mention data type based on the value assigned, it takes data type) \n",
    "### h.Object-Oriented and Procedural  Programming language\n",
    "### i.Portable and Interactive\n",
    "### j.Ideal for prototypes – provide more functionality with less coding\n",
    "### k.Highly Efficient(Python’s clean object-oriented design provides enhanced process control, and the language is equipped with excellent text processing and integration capabilities, as well as its own unit testing framework, which makes it more efficient.)\n",
    "### l.Internet of Things(IoT) Opportunities\n",
    "### m.Interpreted Language\n",
    "### n.Portable across Operating systems "
   ]
  },
  {
   "cell_type": "markdown",
   "id": "29cebded-9d3e-4c1a-83a6-122d982a4343",
   "metadata": {},
   "source": [
    "## 14. How is memory managed in Python?"
   ]
  },
  {
   "cell_type": "markdown",
   "id": "2c3dd809-d0ba-408c-85b5-8b6fe238ff94",
   "metadata": {},
   "source": [
    "### By Python private heap space."
   ]
  },
  {
   "cell_type": "markdown",
   "id": "be6fc6a0-8e52-4eac-91d5-05390f8fb4ce",
   "metadata": {},
   "source": [
    "## 15. How to install Python on windows and set path variables?"
   ]
  },
  {
   "cell_type": "markdown",
   "id": "7d3b6b9c-04a9-4759-8420-a35654692621",
   "metadata": {},
   "source": [
    "### ->Right-clicking This PC and going to Properties.\n",
    "\n",
    "### Clicking on the Advanced system settings in the menu on the left.\n",
    "\n",
    "### Clicking on the Environment Variables button o​n the bottom right.\n",
    "\n",
    "### In the System variables section, selecting the Path variable and clicking on Edit. The next screen will show all the directories that are currently a part of the PATH variable.\n",
    "\n",
    "### Clicking on New and entering Python’s install directory."
   ]
  },
  {
   "cell_type": "markdown",
   "id": "5b323c8a-1b39-49e1-81ab-2c864b41b432",
   "metadata": {},
   "source": [
    "## 16. Is indentation required in Python?"
   ]
  },
  {
   "cell_type": "markdown",
   "id": "4ba628ed-07c9-486b-bb2f-7222c590eaaa",
   "metadata": {},
   "source": [
    "### YES"
   ]
  },
  {
   "cell_type": "code",
   "execution_count": null,
   "id": "03a9ef79-76bd-4437-9163-5f5892275b6b",
   "metadata": {},
   "outputs": [],
   "source": []
  }
 ],
 "metadata": {
  "kernelspec": {
   "display_name": "Python 3 (ipykernel)",
   "language": "python",
   "name": "python3"
  },
  "language_info": {
   "codemirror_mode": {
    "name": "ipython",
    "version": 3
   },
   "file_extension": ".py",
   "mimetype": "text/x-python",
   "name": "python",
   "nbconvert_exporter": "python",
   "pygments_lexer": "ipython3",
   "version": "3.10.8"
  }
 },
 "nbformat": 4,
 "nbformat_minor": 5
}
